{
 "cells": [
  {
   "cell_type": "markdown",
   "metadata": {
    "colab_type": "text",
    "id": "yaxTV5iyhQ82"
   },
   "source": [
    "# ML Tech Interview\n",
    "\n",
    "Hello and welcome to the Machine Learning Tech Interview. This interview will be divided in two parts: the theoretical part and the practical/coding part. \n",
    "\n",
    "### **I will review only the scripts that will be sent (by pull request on this repo) by 1:00 pm**\n",
    "\n",
    "Good Luck!!"
   ]
  },
  {
   "cell_type": "markdown",
   "metadata": {
    "colab_type": "text",
    "id": "Ko6vUaXshQ9S"
   },
   "source": [
    "## Practical Machine Learning\n",
    "\n",
    "In this challenge, you will showcase your knowledge in feature engineering, dimensionality reduction, model selection and evaluation, hyperparameter tuning, and any other techniques of machine learning.\n",
    "\n",
    "There isn't a correct solution to this challenge. All we would like to learn is your thinking process that demonstrates your knowledge, experience, and creativity in developing machine learning models. Therefore, in addition to developing the model and optimizing its performance, you should also elaborate your thinking process and justify your decisions thoughout the iterative problem-solving process.\n",
    "\n",
    "The suggested time to spend on this challenge is 90-120 minutes. If you don't have time to finish all the tasks you plan to do, simply document the to-dos at the end of your response.\n",
    "\n",
    "#### Instructions:\n",
    "\n",
    "- Download the housing prices data set (housing_prices.csv). The data is big enough to showcase your thoughts but not so that processing power will be a problem.\n",
    "- Using Python, analyze the features and determine which feature set to select for modeling.\n",
    "- Train and cross validate several regression models, attempting to accurately predict the SalePrice target variable.\n",
    "- Evaluate all models and show comparison of performance metrics.\n",
    "- State your thoughts on model performance, which model(s) you would select, and why.\n",
    "\n",
    "#### Deliverables Checklist:\n",
    "\n",
    "- Python code.\n",
    "- Your thinking process.\n",
    "- The features selected for machine learning.\n",
    "- The results (e.g., performance metrics) of your selected model(s)."
   ]
  },
  {
   "cell_type": "markdown",
   "metadata": {},
   "source": [
    "## LIBRARIES"
   ]
  },
  {
   "cell_type": "code",
   "execution_count": 1,
   "metadata": {},
   "outputs": [],
   "source": [
    "import numpy as np\n",
    "import pandas as pd\n",
    "import matplotlib.pyplot as plt\n",
    "import seaborn as sns\n",
    "\n",
    "from jupyterthemes import jtplot\n",
    "jtplot.style(theme=\"onedork\", context=\"notebook\", ticks=True, grid=True)"
   ]
  },
  {
   "cell_type": "markdown",
   "metadata": {
    "colab": {},
    "colab_type": "code",
    "id": "3moKc9n4hQ9T"
   },
   "source": [
    "## IMPORT DATA"
   ]
  },
  {
   "cell_type": "code",
   "execution_count": 2,
   "metadata": {},
   "outputs": [
    {
     "data": {
      "text/html": [
       "<div>\n",
       "<style scoped>\n",
       "    .dataframe tbody tr th:only-of-type {\n",
       "        vertical-align: middle;\n",
       "    }\n",
       "\n",
       "    .dataframe tbody tr th {\n",
       "        vertical-align: top;\n",
       "    }\n",
       "\n",
       "    .dataframe thead th {\n",
       "        text-align: right;\n",
       "    }\n",
       "</style>\n",
       "<table border=\"1\" class=\"dataframe\">\n",
       "  <thead>\n",
       "    <tr style=\"text-align: right;\">\n",
       "      <th></th>\n",
       "      <th>Id</th>\n",
       "      <th>MSSubClass</th>\n",
       "      <th>MSZoning</th>\n",
       "      <th>LotFrontage</th>\n",
       "      <th>LotArea</th>\n",
       "      <th>Street</th>\n",
       "      <th>Alley</th>\n",
       "      <th>LotShape</th>\n",
       "      <th>LandContour</th>\n",
       "      <th>Utilities</th>\n",
       "      <th>...</th>\n",
       "      <th>PoolArea</th>\n",
       "      <th>PoolQC</th>\n",
       "      <th>Fence</th>\n",
       "      <th>MiscFeature</th>\n",
       "      <th>MiscVal</th>\n",
       "      <th>MoSold</th>\n",
       "      <th>YrSold</th>\n",
       "      <th>SaleType</th>\n",
       "      <th>SaleCondition</th>\n",
       "      <th>SalePrice</th>\n",
       "    </tr>\n",
       "  </thead>\n",
       "  <tbody>\n",
       "    <tr>\n",
       "      <th>0</th>\n",
       "      <td>1</td>\n",
       "      <td>60</td>\n",
       "      <td>RL</td>\n",
       "      <td>65.0</td>\n",
       "      <td>8450</td>\n",
       "      <td>Pave</td>\n",
       "      <td>NaN</td>\n",
       "      <td>Reg</td>\n",
       "      <td>Lvl</td>\n",
       "      <td>AllPub</td>\n",
       "      <td>...</td>\n",
       "      <td>0</td>\n",
       "      <td>NaN</td>\n",
       "      <td>NaN</td>\n",
       "      <td>NaN</td>\n",
       "      <td>0</td>\n",
       "      <td>2</td>\n",
       "      <td>2008</td>\n",
       "      <td>WD</td>\n",
       "      <td>Normal</td>\n",
       "      <td>208500</td>\n",
       "    </tr>\n",
       "    <tr>\n",
       "      <th>1</th>\n",
       "      <td>2</td>\n",
       "      <td>20</td>\n",
       "      <td>RL</td>\n",
       "      <td>80.0</td>\n",
       "      <td>9600</td>\n",
       "      <td>Pave</td>\n",
       "      <td>NaN</td>\n",
       "      <td>Reg</td>\n",
       "      <td>Lvl</td>\n",
       "      <td>AllPub</td>\n",
       "      <td>...</td>\n",
       "      <td>0</td>\n",
       "      <td>NaN</td>\n",
       "      <td>NaN</td>\n",
       "      <td>NaN</td>\n",
       "      <td>0</td>\n",
       "      <td>5</td>\n",
       "      <td>2007</td>\n",
       "      <td>WD</td>\n",
       "      <td>Normal</td>\n",
       "      <td>181500</td>\n",
       "    </tr>\n",
       "    <tr>\n",
       "      <th>2</th>\n",
       "      <td>3</td>\n",
       "      <td>60</td>\n",
       "      <td>RL</td>\n",
       "      <td>68.0</td>\n",
       "      <td>11250</td>\n",
       "      <td>Pave</td>\n",
       "      <td>NaN</td>\n",
       "      <td>IR1</td>\n",
       "      <td>Lvl</td>\n",
       "      <td>AllPub</td>\n",
       "      <td>...</td>\n",
       "      <td>0</td>\n",
       "      <td>NaN</td>\n",
       "      <td>NaN</td>\n",
       "      <td>NaN</td>\n",
       "      <td>0</td>\n",
       "      <td>9</td>\n",
       "      <td>2008</td>\n",
       "      <td>WD</td>\n",
       "      <td>Normal</td>\n",
       "      <td>223500</td>\n",
       "    </tr>\n",
       "    <tr>\n",
       "      <th>3</th>\n",
       "      <td>4</td>\n",
       "      <td>70</td>\n",
       "      <td>RL</td>\n",
       "      <td>60.0</td>\n",
       "      <td>9550</td>\n",
       "      <td>Pave</td>\n",
       "      <td>NaN</td>\n",
       "      <td>IR1</td>\n",
       "      <td>Lvl</td>\n",
       "      <td>AllPub</td>\n",
       "      <td>...</td>\n",
       "      <td>0</td>\n",
       "      <td>NaN</td>\n",
       "      <td>NaN</td>\n",
       "      <td>NaN</td>\n",
       "      <td>0</td>\n",
       "      <td>2</td>\n",
       "      <td>2006</td>\n",
       "      <td>WD</td>\n",
       "      <td>Abnorml</td>\n",
       "      <td>140000</td>\n",
       "    </tr>\n",
       "    <tr>\n",
       "      <th>4</th>\n",
       "      <td>5</td>\n",
       "      <td>60</td>\n",
       "      <td>RL</td>\n",
       "      <td>84.0</td>\n",
       "      <td>14260</td>\n",
       "      <td>Pave</td>\n",
       "      <td>NaN</td>\n",
       "      <td>IR1</td>\n",
       "      <td>Lvl</td>\n",
       "      <td>AllPub</td>\n",
       "      <td>...</td>\n",
       "      <td>0</td>\n",
       "      <td>NaN</td>\n",
       "      <td>NaN</td>\n",
       "      <td>NaN</td>\n",
       "      <td>0</td>\n",
       "      <td>12</td>\n",
       "      <td>2008</td>\n",
       "      <td>WD</td>\n",
       "      <td>Normal</td>\n",
       "      <td>250000</td>\n",
       "    </tr>\n",
       "  </tbody>\n",
       "</table>\n",
       "<p>5 rows × 81 columns</p>\n",
       "</div>"
      ],
      "text/plain": [
       "   Id  MSSubClass MSZoning  LotFrontage  LotArea Street Alley LotShape  \\\n",
       "0   1          60       RL         65.0     8450   Pave   NaN      Reg   \n",
       "1   2          20       RL         80.0     9600   Pave   NaN      Reg   \n",
       "2   3          60       RL         68.0    11250   Pave   NaN      IR1   \n",
       "3   4          70       RL         60.0     9550   Pave   NaN      IR1   \n",
       "4   5          60       RL         84.0    14260   Pave   NaN      IR1   \n",
       "\n",
       "  LandContour Utilities  ... PoolArea PoolQC Fence MiscFeature MiscVal MoSold  \\\n",
       "0         Lvl    AllPub  ...        0    NaN   NaN         NaN       0      2   \n",
       "1         Lvl    AllPub  ...        0    NaN   NaN         NaN       0      5   \n",
       "2         Lvl    AllPub  ...        0    NaN   NaN         NaN       0      9   \n",
       "3         Lvl    AllPub  ...        0    NaN   NaN         NaN       0      2   \n",
       "4         Lvl    AllPub  ...        0    NaN   NaN         NaN       0     12   \n",
       "\n",
       "  YrSold  SaleType  SaleCondition  SalePrice  \n",
       "0   2008        WD         Normal     208500  \n",
       "1   2007        WD         Normal     181500  \n",
       "2   2008        WD         Normal     223500  \n",
       "3   2006        WD        Abnorml     140000  \n",
       "4   2008        WD         Normal     250000  \n",
       "\n",
       "[5 rows x 81 columns]"
      ]
     },
     "execution_count": 2,
     "metadata": {},
     "output_type": "execute_result"
    }
   ],
   "source": [
    "original = pd.read_csv(\"housing_prices.csv\") #in case needed afterwards\n",
    "houses = pd.read_csv(\"housing_prices.csv\")\n",
    "houses.head()"
   ]
  },
  {
   "cell_type": "markdown",
   "metadata": {},
   "source": [
    "## CLEANING"
   ]
  },
  {
   "cell_type": "code",
   "execution_count": 3,
   "metadata": {},
   "outputs": [
    {
     "data": {
      "text/plain": [
       "(1460, 81)"
      ]
     },
     "execution_count": 3,
     "metadata": {},
     "output_type": "execute_result"
    }
   ],
   "source": [
    "#check shape\n",
    "houses.shape"
   ]
  },
  {
   "cell_type": "code",
   "execution_count": 4,
   "metadata": {},
   "outputs": [
    {
     "name": "stdout",
     "output_type": "stream",
     "text": [
      "Id   TYPE: int64 NULLS 0\n",
      "MSSubClass   TYPE: int64 NULLS 0\n",
      "MSZoning   TYPE: object NULLS 0\n",
      "LotFrontage   TYPE: float64 NULLS 259\n",
      "LotArea   TYPE: int64 NULLS 0\n",
      "Street   TYPE: object NULLS 0\n",
      "Alley   TYPE: object NULLS 1369\n",
      "LotShape   TYPE: object NULLS 0\n",
      "LandContour   TYPE: object NULLS 0\n",
      "Utilities   TYPE: object NULLS 0\n",
      "LotConfig   TYPE: object NULLS 0\n",
      "LandSlope   TYPE: object NULLS 0\n",
      "Neighborhood   TYPE: object NULLS 0\n",
      "Condition1   TYPE: object NULLS 0\n",
      "Condition2   TYPE: object NULLS 0\n",
      "BldgType   TYPE: object NULLS 0\n",
      "HouseStyle   TYPE: object NULLS 0\n",
      "OverallQual   TYPE: int64 NULLS 0\n",
      "OverallCond   TYPE: int64 NULLS 0\n",
      "YearBuilt   TYPE: int64 NULLS 0\n",
      "YearRemodAdd   TYPE: int64 NULLS 0\n",
      "RoofStyle   TYPE: object NULLS 0\n",
      "RoofMatl   TYPE: object NULLS 0\n",
      "Exterior1st   TYPE: object NULLS 0\n",
      "Exterior2nd   TYPE: object NULLS 0\n",
      "MasVnrType   TYPE: object NULLS 8\n",
      "MasVnrArea   TYPE: float64 NULLS 8\n",
      "ExterQual   TYPE: object NULLS 0\n",
      "ExterCond   TYPE: object NULLS 0\n",
      "Foundation   TYPE: object NULLS 0\n",
      "BsmtQual   TYPE: object NULLS 37\n",
      "BsmtCond   TYPE: object NULLS 37\n",
      "BsmtExposure   TYPE: object NULLS 38\n",
      "BsmtFinType1   TYPE: object NULLS 37\n",
      "BsmtFinSF1   TYPE: int64 NULLS 0\n",
      "BsmtFinType2   TYPE: object NULLS 38\n",
      "BsmtFinSF2   TYPE: int64 NULLS 0\n",
      "BsmtUnfSF   TYPE: int64 NULLS 0\n",
      "TotalBsmtSF   TYPE: int64 NULLS 0\n",
      "Heating   TYPE: object NULLS 0\n",
      "HeatingQC   TYPE: object NULLS 0\n",
      "CentralAir   TYPE: object NULLS 0\n",
      "Electrical   TYPE: object NULLS 1\n",
      "1stFlrSF   TYPE: int64 NULLS 0\n",
      "2ndFlrSF   TYPE: int64 NULLS 0\n",
      "LowQualFinSF   TYPE: int64 NULLS 0\n",
      "GrLivArea   TYPE: int64 NULLS 0\n",
      "BsmtFullBath   TYPE: int64 NULLS 0\n",
      "BsmtHalfBath   TYPE: int64 NULLS 0\n",
      "FullBath   TYPE: int64 NULLS 0\n",
      "HalfBath   TYPE: int64 NULLS 0\n",
      "BedroomAbvGr   TYPE: int64 NULLS 0\n",
      "KitchenAbvGr   TYPE: int64 NULLS 0\n",
      "KitchenQual   TYPE: object NULLS 0\n",
      "TotRmsAbvGrd   TYPE: int64 NULLS 0\n",
      "Functional   TYPE: object NULLS 0\n",
      "Fireplaces   TYPE: int64 NULLS 0\n",
      "FireplaceQu   TYPE: object NULLS 690\n",
      "GarageType   TYPE: object NULLS 81\n",
      "GarageYrBlt   TYPE: float64 NULLS 81\n",
      "GarageFinish   TYPE: object NULLS 81\n",
      "GarageCars   TYPE: int64 NULLS 0\n",
      "GarageArea   TYPE: int64 NULLS 0\n",
      "GarageQual   TYPE: object NULLS 81\n",
      "GarageCond   TYPE: object NULLS 81\n",
      "PavedDrive   TYPE: object NULLS 0\n",
      "WoodDeckSF   TYPE: int64 NULLS 0\n",
      "OpenPorchSF   TYPE: int64 NULLS 0\n",
      "EnclosedPorch   TYPE: int64 NULLS 0\n",
      "3SsnPorch   TYPE: int64 NULLS 0\n",
      "ScreenPorch   TYPE: int64 NULLS 0\n",
      "PoolArea   TYPE: int64 NULLS 0\n",
      "PoolQC   TYPE: object NULLS 1453\n",
      "Fence   TYPE: object NULLS 1179\n",
      "MiscFeature   TYPE: object NULLS 1406\n",
      "MiscVal   TYPE: int64 NULLS 0\n",
      "MoSold   TYPE: int64 NULLS 0\n",
      "YrSold   TYPE: int64 NULLS 0\n",
      "SaleType   TYPE: object NULLS 0\n",
      "SaleCondition   TYPE: object NULLS 0\n",
      "SalePrice   TYPE: int64 NULLS 0\n"
     ]
    }
   ],
   "source": [
    "#check types & nulls\n",
    "for col in houses.columns:\n",
    "    print(col, \"  TYPE:\", houses[col].dtypes, \"NULLS\", houses[col].isna().sum())"
   ]
  },
  {
   "cell_type": "code",
   "execution_count": 5,
   "metadata": {},
   "outputs": [
    {
     "data": {
      "text/plain": [
       "(1460, 75)"
      ]
     },
     "execution_count": 5,
     "metadata": {},
     "output_type": "execute_result"
    }
   ],
   "source": [
    "#drop all columns with Nulls % higher than 10%\n",
    "for col in houses.columns:\n",
    "    if (houses[col].isna().sum()/len(houses)) >= 0.1:\n",
    "        houses.drop(col,axis=1,inplace=True)\n",
    "\n",
    "houses.shape"
   ]
  },
  {
   "cell_type": "code",
   "execution_count": 6,
   "metadata": {},
   "outputs": [
    {
     "name": "stdout",
     "output_type": "stream",
     "text": [
      "MSZoning   N°UNIQUES 5   VALUES ['RL' 'RM' 'C (all)' 'FV' 'RH']\n",
      "Street   N°UNIQUES 2   VALUES ['Pave' 'Grvl']\n",
      "LotShape   N°UNIQUES 4   VALUES ['Reg' 'IR1' 'IR2' 'IR3']\n",
      "LandContour   N°UNIQUES 4   VALUES ['Lvl' 'Bnk' 'Low' 'HLS']\n",
      "Utilities   N°UNIQUES 2   VALUES ['AllPub' 'NoSeWa']\n",
      "LotConfig   N°UNIQUES 5   VALUES ['Inside' 'FR2' 'Corner' 'CulDSac' 'FR3']\n",
      "LandSlope   N°UNIQUES 3   VALUES ['Gtl' 'Mod' 'Sev']\n",
      "Neighborhood   N°UNIQUES 25   VALUES ['CollgCr' 'Veenker' 'Crawfor' 'NoRidge' 'Mitchel' 'Somerst' 'NWAmes'\n",
      " 'OldTown' 'BrkSide' 'Sawyer' 'NridgHt' 'NAmes' 'SawyerW' 'IDOTRR'\n",
      " 'MeadowV' 'Edwards' 'Timber' 'Gilbert' 'StoneBr' 'ClearCr' 'NPkVill'\n",
      " 'Blmngtn' 'BrDale' 'SWISU' 'Blueste']\n",
      "Condition1   N°UNIQUES 9   VALUES ['Norm' 'Feedr' 'PosN' 'Artery' 'RRAe' 'RRNn' 'RRAn' 'PosA' 'RRNe']\n",
      "Condition2   N°UNIQUES 8   VALUES ['Norm' 'Artery' 'RRNn' 'Feedr' 'PosN' 'PosA' 'RRAn' 'RRAe']\n",
      "BldgType   N°UNIQUES 5   VALUES ['1Fam' '2fmCon' 'Duplex' 'TwnhsE' 'Twnhs']\n",
      "HouseStyle   N°UNIQUES 8   VALUES ['2Story' '1Story' '1.5Fin' '1.5Unf' 'SFoyer' 'SLvl' '2.5Unf' '2.5Fin']\n",
      "RoofStyle   N°UNIQUES 6   VALUES ['Gable' 'Hip' 'Gambrel' 'Mansard' 'Flat' 'Shed']\n",
      "RoofMatl   N°UNIQUES 8   VALUES ['CompShg' 'WdShngl' 'Metal' 'WdShake' 'Membran' 'Tar&Grv' 'Roll'\n",
      " 'ClyTile']\n",
      "Exterior1st   N°UNIQUES 15   VALUES ['VinylSd' 'MetalSd' 'Wd Sdng' 'HdBoard' 'BrkFace' 'WdShing' 'CemntBd'\n",
      " 'Plywood' 'AsbShng' 'Stucco' 'BrkComm' 'AsphShn' 'Stone' 'ImStucc'\n",
      " 'CBlock']\n",
      "Exterior2nd   N°UNIQUES 16   VALUES ['VinylSd' 'MetalSd' 'Wd Shng' 'HdBoard' 'Plywood' 'Wd Sdng' 'CmentBd'\n",
      " 'BrkFace' 'Stucco' 'AsbShng' 'Brk Cmn' 'ImStucc' 'AsphShn' 'Stone'\n",
      " 'Other' 'CBlock']\n",
      "MasVnrType   N°UNIQUES 5   VALUES ['BrkFace' 'None' 'Stone' 'BrkCmn' nan]\n",
      "ExterQual   N°UNIQUES 4   VALUES ['Gd' 'TA' 'Ex' 'Fa']\n",
      "ExterCond   N°UNIQUES 5   VALUES ['TA' 'Gd' 'Fa' 'Po' 'Ex']\n",
      "Foundation   N°UNIQUES 6   VALUES ['PConc' 'CBlock' 'BrkTil' 'Wood' 'Slab' 'Stone']\n",
      "BsmtQual   N°UNIQUES 5   VALUES ['Gd' 'TA' 'Ex' nan 'Fa']\n",
      "BsmtCond   N°UNIQUES 5   VALUES ['TA' 'Gd' nan 'Fa' 'Po']\n",
      "BsmtExposure   N°UNIQUES 5   VALUES ['No' 'Gd' 'Mn' 'Av' nan]\n",
      "BsmtFinType1   N°UNIQUES 7   VALUES ['GLQ' 'ALQ' 'Unf' 'Rec' 'BLQ' nan 'LwQ']\n",
      "BsmtFinType2   N°UNIQUES 7   VALUES ['Unf' 'BLQ' nan 'ALQ' 'Rec' 'LwQ' 'GLQ']\n",
      "Heating   N°UNIQUES 6   VALUES ['GasA' 'GasW' 'Grav' 'Wall' 'OthW' 'Floor']\n",
      "HeatingQC   N°UNIQUES 5   VALUES ['Ex' 'Gd' 'TA' 'Fa' 'Po']\n",
      "CentralAir   N°UNIQUES 2   VALUES ['Y' 'N']\n",
      "Electrical   N°UNIQUES 6   VALUES ['SBrkr' 'FuseF' 'FuseA' 'FuseP' 'Mix' nan]\n",
      "KitchenQual   N°UNIQUES 4   VALUES ['Gd' 'TA' 'Ex' 'Fa']\n",
      "Functional   N°UNIQUES 7   VALUES ['Typ' 'Min1' 'Maj1' 'Min2' 'Mod' 'Maj2' 'Sev']\n",
      "GarageType   N°UNIQUES 7   VALUES ['Attchd' 'Detchd' 'BuiltIn' 'CarPort' nan 'Basment' '2Types']\n",
      "GarageFinish   N°UNIQUES 4   VALUES ['RFn' 'Unf' 'Fin' nan]\n",
      "GarageQual   N°UNIQUES 6   VALUES ['TA' 'Fa' 'Gd' nan 'Ex' 'Po']\n",
      "GarageCond   N°UNIQUES 6   VALUES ['TA' 'Fa' nan 'Gd' 'Po' 'Ex']\n",
      "PavedDrive   N°UNIQUES 3   VALUES ['Y' 'N' 'P']\n",
      "SaleType   N°UNIQUES 9   VALUES ['WD' 'New' 'COD' 'ConLD' 'ConLI' 'CWD' 'ConLw' 'Con' 'Oth']\n",
      "SaleCondition   N°UNIQUES 6   VALUES ['Normal' 'Abnorml' 'Partial' 'AdjLand' 'Alloca' 'Family']\n"
     ]
    }
   ],
   "source": [
    "# for categorical variables check number of uniques\n",
    "for col in houses.columns:\n",
    "    if houses[col].dtype == \"object\":\n",
    "        print(col,\"  N°UNIQUES\", len(houses[col].unique()), \"  VALUES\", houses[col].unique())"
   ]
  },
  {
   "cell_type": "code",
   "execution_count": 7,
   "metadata": {},
   "outputs": [
    {
     "name": "stdout",
     "output_type": "stream",
     "text": [
      "Neighborhood   N°UNIQUES 25   VALUES ['CollgCr' 'Veenker' 'Crawfor' 'NoRidge' 'Mitchel' 'Somerst' 'NWAmes'\n",
      " 'OldTown' 'BrkSide' 'Sawyer' 'NridgHt' 'NAmes' 'SawyerW' 'IDOTRR'\n",
      " 'MeadowV' 'Edwards' 'Timber' 'Gilbert' 'StoneBr' 'ClearCr' 'NPkVill'\n",
      " 'Blmngtn' 'BrDale' 'SWISU' 'Blueste']\n",
      "Condition1   N°UNIQUES 9   VALUES ['Norm' 'Feedr' 'PosN' 'Artery' 'RRAe' 'RRNn' 'RRAn' 'PosA' 'RRNe']\n",
      "Condition2   N°UNIQUES 8   VALUES ['Norm' 'Artery' 'RRNn' 'Feedr' 'PosN' 'PosA' 'RRAn' 'RRAe']\n",
      "HouseStyle   N°UNIQUES 8   VALUES ['2Story' '1Story' '1.5Fin' '1.5Unf' 'SFoyer' 'SLvl' '2.5Unf' '2.5Fin']\n",
      "RoofStyle   N°UNIQUES 6   VALUES ['Gable' 'Hip' 'Gambrel' 'Mansard' 'Flat' 'Shed']\n",
      "RoofMatl   N°UNIQUES 8   VALUES ['CompShg' 'WdShngl' 'Metal' 'WdShake' 'Membran' 'Tar&Grv' 'Roll'\n",
      " 'ClyTile']\n",
      "Exterior1st   N°UNIQUES 15   VALUES ['VinylSd' 'MetalSd' 'Wd Sdng' 'HdBoard' 'BrkFace' 'WdShing' 'CemntBd'\n",
      " 'Plywood' 'AsbShng' 'Stucco' 'BrkComm' 'AsphShn' 'Stone' 'ImStucc'\n",
      " 'CBlock']\n",
      "Exterior2nd   N°UNIQUES 16   VALUES ['VinylSd' 'MetalSd' 'Wd Shng' 'HdBoard' 'Plywood' 'Wd Sdng' 'CmentBd'\n",
      " 'BrkFace' 'Stucco' 'AsbShng' 'Brk Cmn' 'ImStucc' 'AsphShn' 'Stone'\n",
      " 'Other' 'CBlock']\n",
      "Foundation   N°UNIQUES 6   VALUES ['PConc' 'CBlock' 'BrkTil' 'Wood' 'Slab' 'Stone']\n",
      "BsmtFinType1   N°UNIQUES 7   VALUES ['GLQ' 'ALQ' 'Unf' 'Rec' 'BLQ' nan 'LwQ']\n",
      "BsmtFinType2   N°UNIQUES 7   VALUES ['Unf' 'BLQ' nan 'ALQ' 'Rec' 'LwQ' 'GLQ']\n",
      "Heating   N°UNIQUES 6   VALUES ['GasA' 'GasW' 'Grav' 'Wall' 'OthW' 'Floor']\n",
      "Electrical   N°UNIQUES 6   VALUES ['SBrkr' 'FuseF' 'FuseA' 'FuseP' 'Mix' nan]\n",
      "Functional   N°UNIQUES 7   VALUES ['Typ' 'Min1' 'Maj1' 'Min2' 'Mod' 'Maj2' 'Sev']\n",
      "GarageType   N°UNIQUES 7   VALUES ['Attchd' 'Detchd' 'BuiltIn' 'CarPort' nan 'Basment' '2Types']\n",
      "GarageQual   N°UNIQUES 6   VALUES ['TA' 'Fa' 'Gd' nan 'Ex' 'Po']\n",
      "GarageCond   N°UNIQUES 6   VALUES ['TA' 'Fa' nan 'Gd' 'Po' 'Ex']\n",
      "SaleType   N°UNIQUES 9   VALUES ['WD' 'New' 'COD' 'ConLD' 'ConLI' 'CWD' 'ConLw' 'Con' 'Oth']\n",
      "SaleCondition   N°UNIQUES 6   VALUES ['Normal' 'Abnorml' 'Partial' 'AdjLand' 'Alloca' 'Family']\n"
     ]
    }
   ],
   "source": [
    "# Isolate coulumns with more than 5 unique values \n",
    "for col in houses.columns:\n",
    "    if houses[col].dtype == \"object\" and len(houses[col].unique()) > 5 :\n",
    "        print(col,\"  N°UNIQUES\", len(houses[col].unique()), \"  VALUES\", houses[col].unique())"
   ]
  },
  {
   "cell_type": "code",
   "execution_count": 8,
   "metadata": {},
   "outputs": [],
   "source": [
    "# Drop columns that cannot be grouped or converted to numeric:\n",
    "houses.drop([\"Id\",\"Neighborhood\",\"Condition1\",\"Condition2\",\"HouseStyle\",\"RoofStyle\",\"RoofMatl\",\n",
    "             \"Exterior1st\",\"Exterior2nd\",\"Foundation\",\"Functional\",\"SaleType\"],axis=1,inplace=True)\n",
    "\n"
   ]
  },
  {
   "cell_type": "code",
   "execution_count": 9,
   "metadata": {},
   "outputs": [],
   "source": [
    "#check if basement and garage can be grouped and turned into booleans \n",
    "\n",
    "group = houses[[\"BsmtQual\",\"GarageQual\",\"BsmtCond\",\"BsmtExposure\",\"BsmtFinType1\",\"BsmtFinType2\",\"GarageFinish\",\n",
    "         \"GarageType\",\"GarageCond\"]]\n",
    "\n",
    "group[group[\"BsmtQual\"].isna()]\n",
    "group[group[\"GarageQual\"].isna()]\n",
    "\n",
    "#YES THEY CAN!\n",
    "#keep only 1 column for basement and 1 for garage\n",
    "houses.drop([i for i in group.columns[2:]],axis=1,inplace=True)\n",
    "\n",
    "#fillna, turn to binary and drop old columns\n",
    "houses[\"BsmtQual\"].fillna(\"N\",inplace=True)\n",
    "houses[\"Bsmt\"] = houses[\"BsmtQual\"].apply(lambda x: 0 if x==\"N\" else 1)\n",
    "houses.drop(\"BsmtQual\",axis=1,inplace=True)\n",
    "\n",
    "houses[\"GarageQual\"].fillna(\"N\",inplace=True)\n",
    "houses[\"Garage\"] = houses[\"GarageQual\"].apply(lambda x: 0 if x==\"N\" else 1)\n",
    "houses.drop(\"GarageQual\",axis=1,inplace=True)\n",
    "\n",
    "#fill nulls and turn to bool where also possible:\n",
    "houses[\"MasVnrType\"].fillna(\"N\",inplace=True)\n",
    "houses[\"MasVnr\"] = houses[\"MasVnrType\"].apply(lambda x: 0 if x==\"N\" else 1)\n",
    "houses.drop(\"MasVnrType\",axis=1,inplace=True)\n",
    "\n",
    "houses[\"Electrical\"].fillna(\"N\",inplace=True)\n",
    "houses[\"Electrical\"] = houses[\"Electrical\"].apply(lambda x: 0 if x==\"N\" else 1)\n"
   ]
  },
  {
   "cell_type": "code",
   "execution_count": 10,
   "metadata": {},
   "outputs": [
    {
     "name": "stdout",
     "output_type": "stream",
     "text": [
      "MSZoning   N°UNIQUES 5   VALUES ['RL' 'RM' 'C (all)' 'FV' 'RH']\n",
      "Street   N°UNIQUES 2   VALUES ['Pave' 'Grvl']\n",
      "LotShape   N°UNIQUES 4   VALUES ['Reg' 'IR1' 'IR2' 'IR3']\n",
      "LandContour   N°UNIQUES 4   VALUES ['Lvl' 'Bnk' 'Low' 'HLS']\n",
      "Utilities   N°UNIQUES 2   VALUES ['AllPub' 'NoSeWa']\n",
      "LotConfig   N°UNIQUES 5   VALUES ['Inside' 'FR2' 'Corner' 'CulDSac' 'FR3']\n",
      "LandSlope   N°UNIQUES 3   VALUES ['Gtl' 'Mod' 'Sev']\n",
      "BldgType   N°UNIQUES 5   VALUES ['1Fam' '2fmCon' 'Duplex' 'TwnhsE' 'Twnhs']\n",
      "ExterQual   N°UNIQUES 4   VALUES ['Gd' 'TA' 'Ex' 'Fa']\n",
      "ExterCond   N°UNIQUES 5   VALUES ['TA' 'Gd' 'Fa' 'Po' 'Ex']\n",
      "Heating   N°UNIQUES 6   VALUES ['GasA' 'GasW' 'Grav' 'Wall' 'OthW' 'Floor']\n",
      "HeatingQC   N°UNIQUES 5   VALUES ['Ex' 'Gd' 'TA' 'Fa' 'Po']\n",
      "CentralAir   N°UNIQUES 2   VALUES ['Y' 'N']\n",
      "KitchenQual   N°UNIQUES 4   VALUES ['Gd' 'TA' 'Ex' 'Fa']\n",
      "PavedDrive   N°UNIQUES 3   VALUES ['Y' 'N' 'P']\n",
      "SaleCondition   N°UNIQUES 6   VALUES ['Normal' 'Abnorml' 'Partial' 'AdjLand' 'Alloca' 'Family']\n"
     ]
    }
   ],
   "source": [
    "for col in houses.columns:\n",
    "    if houses[col].dtype == \"object\":\n",
    "        print(col,\"  N°UNIQUES\", len(houses[col].unique()), \"  VALUES\", houses[col].unique())\n",
    "        \n"
   ]
  },
  {
   "cell_type": "code",
   "execution_count": 11,
   "metadata": {},
   "outputs": [],
   "source": [
    "#drop some other residual columns diffcult to interpret or use\n",
    "houses.drop([\"LotShape\",\"LandContour\",\"LotConfig\",\"LandSlope\",\"ExterCond\",\"Heating\",\"HeatingQC\",\n",
    "             \"BldgType\",\"SaleCondition\"],axis=1,inplace=True)"
   ]
  },
  {
   "cell_type": "code",
   "execution_count": 12,
   "metadata": {},
   "outputs": [
    {
     "name": "stdout",
     "output_type": "stream",
     "text": [
      "MSZoning ORIGINAL: ['C (all)' 'FV' 'RH' 'RL' 'RM']\n",
      "Street ORIGINAL: ['Grvl' 'Pave']\n",
      "Utilities ORIGINAL: ['AllPub' 'NoSeWa']\n",
      "ExterQual ORIGINAL: ['Ex' 'Fa' 'Gd' 'TA']\n",
      "CentralAir ORIGINAL: ['N' 'Y']\n",
      "KitchenQual ORIGINAL: ['Ex' 'Fa' 'Gd' 'TA']\n",
      "PavedDrive ORIGINAL: ['N' 'P' 'Y']\n"
     ]
    }
   ],
   "source": [
    "#encode remaining object data:\n",
    "from sklearn.preprocessing import LabelEncoder\n",
    "le = LabelEncoder()\n",
    "\n",
    "for col in houses.columns:\n",
    "    if houses[col].dtype == \"object\":\n",
    "        houses[col] = [i for i in le.fit_transform(houses[col])]\n",
    "        print(col, \"ORIGINAL:\", le.classes_)"
   ]
  },
  {
   "cell_type": "code",
   "execution_count": 13,
   "metadata": {},
   "outputs": [
    {
     "name": "stdout",
     "output_type": "stream",
     "text": [
      "MSSubClass   TYPE: int64 NULLS 0\n",
      "MSZoning   TYPE: int64 NULLS 0\n",
      "LotArea   TYPE: int64 NULLS 0\n",
      "Street   TYPE: int64 NULLS 0\n",
      "Utilities   TYPE: int64 NULLS 0\n",
      "OverallQual   TYPE: int64 NULLS 0\n",
      "OverallCond   TYPE: int64 NULLS 0\n",
      "YearBuilt   TYPE: int64 NULLS 0\n",
      "YearRemodAdd   TYPE: int64 NULLS 0\n",
      "MasVnrArea   TYPE: float64 NULLS 8\n",
      "ExterQual   TYPE: int64 NULLS 0\n",
      "BsmtFinSF1   TYPE: int64 NULLS 0\n",
      "BsmtFinSF2   TYPE: int64 NULLS 0\n",
      "BsmtUnfSF   TYPE: int64 NULLS 0\n",
      "TotalBsmtSF   TYPE: int64 NULLS 0\n",
      "CentralAir   TYPE: int64 NULLS 0\n",
      "Electrical   TYPE: int64 NULLS 0\n",
      "1stFlrSF   TYPE: int64 NULLS 0\n",
      "2ndFlrSF   TYPE: int64 NULLS 0\n",
      "LowQualFinSF   TYPE: int64 NULLS 0\n",
      "GrLivArea   TYPE: int64 NULLS 0\n",
      "BsmtFullBath   TYPE: int64 NULLS 0\n",
      "BsmtHalfBath   TYPE: int64 NULLS 0\n",
      "FullBath   TYPE: int64 NULLS 0\n",
      "HalfBath   TYPE: int64 NULLS 0\n",
      "BedroomAbvGr   TYPE: int64 NULLS 0\n",
      "KitchenAbvGr   TYPE: int64 NULLS 0\n",
      "KitchenQual   TYPE: int64 NULLS 0\n",
      "TotRmsAbvGrd   TYPE: int64 NULLS 0\n",
      "Fireplaces   TYPE: int64 NULLS 0\n",
      "GarageYrBlt   TYPE: float64 NULLS 81\n",
      "GarageCars   TYPE: int64 NULLS 0\n",
      "GarageArea   TYPE: int64 NULLS 0\n",
      "PavedDrive   TYPE: int64 NULLS 0\n",
      "WoodDeckSF   TYPE: int64 NULLS 0\n",
      "OpenPorchSF   TYPE: int64 NULLS 0\n",
      "EnclosedPorch   TYPE: int64 NULLS 0\n",
      "3SsnPorch   TYPE: int64 NULLS 0\n",
      "ScreenPorch   TYPE: int64 NULLS 0\n",
      "PoolArea   TYPE: int64 NULLS 0\n",
      "MiscVal   TYPE: int64 NULLS 0\n",
      "MoSold   TYPE: int64 NULLS 0\n",
      "YrSold   TYPE: int64 NULLS 0\n",
      "SalePrice   TYPE: int64 NULLS 0\n",
      "Bsmt   TYPE: int64 NULLS 0\n",
      "Garage   TYPE: int64 NULLS 0\n",
      "MasVnr   TYPE: int64 NULLS 0\n",
      "(1460, 47)\n"
     ]
    }
   ],
   "source": [
    "#check types and nulls and size again:\n",
    "for col in houses.columns:\n",
    "    print(col, \"  TYPE:\", houses[col].dtypes, \"NULLS\", houses[col].isna().sum())\n",
    "\n",
    "print(houses.shape)"
   ]
  },
  {
   "cell_type": "code",
   "execution_count": 14,
   "metadata": {},
   "outputs": [
    {
     "data": {
      "text/html": [
       "<div>\n",
       "<style scoped>\n",
       "    .dataframe tbody tr th:only-of-type {\n",
       "        vertical-align: middle;\n",
       "    }\n",
       "\n",
       "    .dataframe tbody tr th {\n",
       "        vertical-align: top;\n",
       "    }\n",
       "\n",
       "    .dataframe thead th {\n",
       "        text-align: right;\n",
       "    }\n",
       "</style>\n",
       "<table border=\"1\" class=\"dataframe\">\n",
       "  <thead>\n",
       "    <tr style=\"text-align: right;\">\n",
       "      <th></th>\n",
       "      <th>MSSubClass</th>\n",
       "      <th>MSZoning</th>\n",
       "      <th>LotArea</th>\n",
       "      <th>Street</th>\n",
       "      <th>Utilities</th>\n",
       "      <th>OverallQual</th>\n",
       "      <th>OverallCond</th>\n",
       "      <th>YearBuilt</th>\n",
       "      <th>YearRemodAdd</th>\n",
       "      <th>MasVnrArea</th>\n",
       "      <th>...</th>\n",
       "      <th>3SsnPorch</th>\n",
       "      <th>ScreenPorch</th>\n",
       "      <th>PoolArea</th>\n",
       "      <th>MiscVal</th>\n",
       "      <th>MoSold</th>\n",
       "      <th>YrSold</th>\n",
       "      <th>SalePrice</th>\n",
       "      <th>Bsmt</th>\n",
       "      <th>Garage</th>\n",
       "      <th>MasVnr</th>\n",
       "    </tr>\n",
       "  </thead>\n",
       "  <tbody>\n",
       "    <tr>\n",
       "      <th>0</th>\n",
       "      <td>60</td>\n",
       "      <td>3</td>\n",
       "      <td>8450</td>\n",
       "      <td>1</td>\n",
       "      <td>0</td>\n",
       "      <td>7</td>\n",
       "      <td>5</td>\n",
       "      <td>2003</td>\n",
       "      <td>2003</td>\n",
       "      <td>196.0</td>\n",
       "      <td>...</td>\n",
       "      <td>0</td>\n",
       "      <td>0</td>\n",
       "      <td>0</td>\n",
       "      <td>0</td>\n",
       "      <td>2</td>\n",
       "      <td>2008</td>\n",
       "      <td>208500</td>\n",
       "      <td>1</td>\n",
       "      <td>1</td>\n",
       "      <td>1</td>\n",
       "    </tr>\n",
       "    <tr>\n",
       "      <th>1</th>\n",
       "      <td>20</td>\n",
       "      <td>3</td>\n",
       "      <td>9600</td>\n",
       "      <td>1</td>\n",
       "      <td>0</td>\n",
       "      <td>6</td>\n",
       "      <td>8</td>\n",
       "      <td>1976</td>\n",
       "      <td>1976</td>\n",
       "      <td>0.0</td>\n",
       "      <td>...</td>\n",
       "      <td>0</td>\n",
       "      <td>0</td>\n",
       "      <td>0</td>\n",
       "      <td>0</td>\n",
       "      <td>5</td>\n",
       "      <td>2007</td>\n",
       "      <td>181500</td>\n",
       "      <td>1</td>\n",
       "      <td>1</td>\n",
       "      <td>1</td>\n",
       "    </tr>\n",
       "    <tr>\n",
       "      <th>2</th>\n",
       "      <td>60</td>\n",
       "      <td>3</td>\n",
       "      <td>11250</td>\n",
       "      <td>1</td>\n",
       "      <td>0</td>\n",
       "      <td>7</td>\n",
       "      <td>5</td>\n",
       "      <td>2001</td>\n",
       "      <td>2002</td>\n",
       "      <td>162.0</td>\n",
       "      <td>...</td>\n",
       "      <td>0</td>\n",
       "      <td>0</td>\n",
       "      <td>0</td>\n",
       "      <td>0</td>\n",
       "      <td>9</td>\n",
       "      <td>2008</td>\n",
       "      <td>223500</td>\n",
       "      <td>1</td>\n",
       "      <td>1</td>\n",
       "      <td>1</td>\n",
       "    </tr>\n",
       "    <tr>\n",
       "      <th>3</th>\n",
       "      <td>70</td>\n",
       "      <td>3</td>\n",
       "      <td>9550</td>\n",
       "      <td>1</td>\n",
       "      <td>0</td>\n",
       "      <td>7</td>\n",
       "      <td>5</td>\n",
       "      <td>1915</td>\n",
       "      <td>1970</td>\n",
       "      <td>0.0</td>\n",
       "      <td>...</td>\n",
       "      <td>0</td>\n",
       "      <td>0</td>\n",
       "      <td>0</td>\n",
       "      <td>0</td>\n",
       "      <td>2</td>\n",
       "      <td>2006</td>\n",
       "      <td>140000</td>\n",
       "      <td>1</td>\n",
       "      <td>1</td>\n",
       "      <td>1</td>\n",
       "    </tr>\n",
       "    <tr>\n",
       "      <th>4</th>\n",
       "      <td>60</td>\n",
       "      <td>3</td>\n",
       "      <td>14260</td>\n",
       "      <td>1</td>\n",
       "      <td>0</td>\n",
       "      <td>8</td>\n",
       "      <td>5</td>\n",
       "      <td>2000</td>\n",
       "      <td>2000</td>\n",
       "      <td>350.0</td>\n",
       "      <td>...</td>\n",
       "      <td>0</td>\n",
       "      <td>0</td>\n",
       "      <td>0</td>\n",
       "      <td>0</td>\n",
       "      <td>12</td>\n",
       "      <td>2008</td>\n",
       "      <td>250000</td>\n",
       "      <td>1</td>\n",
       "      <td>1</td>\n",
       "      <td>1</td>\n",
       "    </tr>\n",
       "  </tbody>\n",
       "</table>\n",
       "<p>5 rows × 47 columns</p>\n",
       "</div>"
      ],
      "text/plain": [
       "   MSSubClass  MSZoning  LotArea  Street  Utilities  OverallQual  OverallCond  \\\n",
       "0          60         3     8450       1          0            7            5   \n",
       "1          20         3     9600       1          0            6            8   \n",
       "2          60         3    11250       1          0            7            5   \n",
       "3          70         3     9550       1          0            7            5   \n",
       "4          60         3    14260       1          0            8            5   \n",
       "\n",
       "   YearBuilt  YearRemodAdd  MasVnrArea  ...  3SsnPorch  ScreenPorch  PoolArea  \\\n",
       "0       2003          2003       196.0  ...          0            0         0   \n",
       "1       1976          1976         0.0  ...          0            0         0   \n",
       "2       2001          2002       162.0  ...          0            0         0   \n",
       "3       1915          1970         0.0  ...          0            0         0   \n",
       "4       2000          2000       350.0  ...          0            0         0   \n",
       "\n",
       "   MiscVal  MoSold  YrSold  SalePrice  Bsmt  Garage  MasVnr  \n",
       "0        0       2    2008     208500     1       1       1  \n",
       "1        0       5    2007     181500     1       1       1  \n",
       "2        0       9    2008     223500     1       1       1  \n",
       "3        0       2    2006     140000     1       1       1  \n",
       "4        0      12    2008     250000     1       1       1  \n",
       "\n",
       "[5 rows x 47 columns]"
      ]
     },
     "execution_count": 14,
     "metadata": {},
     "output_type": "execute_result"
    }
   ],
   "source": [
    "houses.head()"
   ]
  },
  {
   "cell_type": "code",
   "execution_count": 15,
   "metadata": {},
   "outputs": [],
   "source": [
    "# group/ drop / turn to bool remaining columns that are not so relevant logically...:\n",
    "\n",
    "houses[\"Bath\"] = houses[[\"BsmtFullBath\",\"BsmtHalfBath\",\"FullBath\",\"HalfBath\"]].sum(axis=1)\n",
    "houses.drop([\"BsmtFullBath\",\"BsmtHalfBath\",\"FullBath\",\"HalfBath\"],axis=1,inplace=True)\n",
    "\n",
    "houses.drop([\"MasVnrArea\",\"BsmtFinSF1\",\"BsmtFinSF2\",\"BsmtUnfSF\",\"Fireplaces\",\"GarageYrBlt\",\"GarageCars\",\n",
    "             \"BedroomAbvGr\",\"KitchenAbvGr\"],axis=1, inplace=True)\n",
    "\n",
    "houses[\"Porch\"] = houses[[\"OpenPorchSF\",\"EnclosedPorch\",\n",
    "                          \"3SsnPorch\",\"ScreenPorch\"]].sum(axis=1).apply(lambda x: 1 if x != 0 else 0)\n",
    "houses.drop([\"OpenPorchSF\",\"EnclosedPorch\",\"3SsnPorch\",\"ScreenPorch\"],axis=1,inplace=True)\n",
    "\n",
    "\n",
    "houses[\"Pool\"] = houses[\"PoolArea\"].apply(lambda x: 1 if x != 0 else 0)\n",
    "houses.drop(\"PoolArea\",axis=1,inplace=True)\n",
    "\n",
    "houses[\"WoodDeck\"] = houses[\"WoodDeckSF\"].apply(lambda x: 1 if x != 0 else 0)\n",
    "houses.drop(\"WoodDeckSF\",axis=1,inplace=True)\n"
   ]
  },
  {
   "cell_type": "code",
   "execution_count": 16,
   "metadata": {
    "scrolled": true
   },
   "outputs": [
    {
     "data": {
      "text/plain": [
       "(1460, 32)"
      ]
     },
     "execution_count": 16,
     "metadata": {},
     "output_type": "execute_result"
    }
   ],
   "source": [
    "houses.shape"
   ]
  },
  {
   "cell_type": "code",
   "execution_count": 17,
   "metadata": {},
   "outputs": [
    {
     "data": {
      "text/plain": [
       "MSSubClass      int64\n",
       "MSZoning        int64\n",
       "LotArea         int64\n",
       "Street          int64\n",
       "Utilities       int64\n",
       "OverallQual     int64\n",
       "OverallCond     int64\n",
       "YearBuilt       int64\n",
       "YearRemodAdd    int64\n",
       "ExterQual       int64\n",
       "TotalBsmtSF     int64\n",
       "CentralAir      int64\n",
       "Electrical      int64\n",
       "1stFlrSF        int64\n",
       "2ndFlrSF        int64\n",
       "LowQualFinSF    int64\n",
       "GrLivArea       int64\n",
       "KitchenQual     int64\n",
       "TotRmsAbvGrd    int64\n",
       "GarageArea      int64\n",
       "PavedDrive      int64\n",
       "MiscVal         int64\n",
       "MoSold          int64\n",
       "YrSold          int64\n",
       "SalePrice       int64\n",
       "Bsmt            int64\n",
       "Garage          int64\n",
       "MasVnr          int64\n",
       "Bath            int64\n",
       "Porch           int64\n",
       "Pool            int64\n",
       "WoodDeck        int64\n",
       "dtype: object"
      ]
     },
     "execution_count": 17,
     "metadata": {},
     "output_type": "execute_result"
    }
   ],
   "source": [
    "houses.dtypes"
   ]
  },
  {
   "cell_type": "code",
   "execution_count": 18,
   "metadata": {},
   "outputs": [
    {
     "data": {
      "text/plain": [
       "<matplotlib.axes._subplots.AxesSubplot at 0x7f65acc89f60>"
      ]
     },
     "execution_count": 18,
     "metadata": {},
     "output_type": "execute_result"
    },
    {
     "data": {
      "image/png": "[encoded data removed]",
      "text/plain": [
       "<Figure size 864x864 with 2 Axes>"
      ]
     },
     "metadata": {
      "needs_background": "dark"
     },
     "output_type": "display_data"
    }
   ],
   "source": [
    "#finally check for high correlation to avoid multicollinearity\n",
    "corr = houses.corr()\n",
    "plt.figure(figsize=(12,12))\n",
    "sns.heatmap(corr,annot=False,linewidth=0.4)"
   ]
  },
  {
   "cell_type": "code",
   "execution_count": 19,
   "metadata": {},
   "outputs": [
    {
     "data": {
      "text/plain": [
       "'\\nCorrelations seem manageble for now...\\n'"
      ]
     },
     "execution_count": 19,
     "metadata": {},
     "output_type": "execute_result"
    }
   ],
   "source": [
    "\"\"\"\n",
    "Correlations seem manageble for now...\n",
    "\"\"\""
   ]
  },
  {
   "cell_type": "markdown",
   "metadata": {},
   "source": [
    "## STANDARDIZE DATA  ??"
   ]
  },
  {
   "cell_type": "markdown",
   "metadata": {},
   "source": [
    "## SPLIT THE DATA"
   ]
  },
  {
   "cell_type": "code",
   "execution_count": 20,
   "metadata": {},
   "outputs": [],
   "source": [
    "y = houses[\"SalePrice\"]\n",
    "X = houses\n",
    "X.drop(\"SalePrice\",axis=1,inplace=True)"
   ]
  },
  {
   "cell_type": "code",
   "execution_count": 21,
   "metadata": {},
   "outputs": [],
   "source": [
    "from sklearn.model_selection import train_test_split\n",
    "\n",
    "X_train, X_test, y_train, y_test = train_test_split(X, y, test_size=0.20, random_state = 29)"
   ]
  },
  {
   "cell_type": "markdown",
   "metadata": {},
   "source": [
    "## MODEL PIPELINE"
   ]
  },
  {
   "cell_type": "code",
   "execution_count": 31,
   "metadata": {},
   "outputs": [
    {
     "name": "stdout",
     "output_type": "stream",
     "text": [
      "-2.89788787015965e+20\n",
      "-1.5256970936555455e+21\n",
      "-913563422984789.0\n",
      "-5382802217.688489\n"
     ]
    },
    {
     "ename": "MemoryError",
     "evalue": "Unable to allocate array with shape (1168, 376992) and data type float64",
     "output_type": "error",
     "traceback": [
      "\u001b[0;31m---------------------------------------------------------------------------\u001b[0m",
      "\u001b[0;31mMemoryError\u001b[0m                               Traceback (most recent call last)",
      "\u001b[0;32m<ipython-input-31-da4231bcea38>\u001b[0m in \u001b[0;36m<module>\u001b[0;34m\u001b[0m\n\u001b[1;32m      8\u001b[0m \u001b[0;32mfor\u001b[0m \u001b[0mk\u001b[0m \u001b[0;32min\u001b[0m \u001b[0mrange\u001b[0m\u001b[0;34m(\u001b[0m\u001b[0;36m1\u001b[0m\u001b[0;34m,\u001b[0m\u001b[0;36m6\u001b[0m\u001b[0;34m)\u001b[0m\u001b[0;34m:\u001b[0m\u001b[0;34m\u001b[0m\u001b[0;34m\u001b[0m\u001b[0m\n\u001b[1;32m      9\u001b[0m     \u001b[0mpoly_model\u001b[0m \u001b[0;34m=\u001b[0m \u001b[0mmake_pipeline\u001b[0m \u001b[0;34m(\u001b[0m\u001b[0mStandardScaler\u001b[0m\u001b[0;34m(\u001b[0m\u001b[0;34m)\u001b[0m\u001b[0;34m,\u001b[0m\u001b[0mPolynomialFeatures\u001b[0m\u001b[0;34m(\u001b[0m\u001b[0mk\u001b[0m\u001b[0;34m)\u001b[0m\u001b[0;34m,\u001b[0m \u001b[0mLinearRegression\u001b[0m\u001b[0;34m(\u001b[0m\u001b[0;34m)\u001b[0m\u001b[0;34m)\u001b[0m\u001b[0;34m\u001b[0m\u001b[0;34m\u001b[0m\u001b[0m\n\u001b[0;32m---> 10\u001b[0;31m     \u001b[0mmodel\u001b[0m \u001b[0;34m=\u001b[0m \u001b[0mpoly_model\u001b[0m\u001b[0;34m.\u001b[0m\u001b[0mfit\u001b[0m\u001b[0;34m(\u001b[0m\u001b[0mX_train\u001b[0m\u001b[0;34m,\u001b[0m \u001b[0my_train\u001b[0m\u001b[0;34m)\u001b[0m\u001b[0;34m\u001b[0m\u001b[0;34m\u001b[0m\u001b[0m\n\u001b[0m\u001b[1;32m     11\u001b[0m     \u001b[0my_pred\u001b[0m \u001b[0;34m=\u001b[0m \u001b[0mmodel\u001b[0m\u001b[0;34m.\u001b[0m\u001b[0mpredict\u001b[0m\u001b[0;34m(\u001b[0m\u001b[0mX_test\u001b[0m\u001b[0;34m)\u001b[0m\u001b[0;34m\u001b[0m\u001b[0;34m\u001b[0m\u001b[0m\n\u001b[1;32m     12\u001b[0m     \u001b[0;31m#mse = mean_squared_error(y_test, y_pred)\u001b[0m\u001b[0;34m\u001b[0m\u001b[0;34m\u001b[0m\u001b[0;34m\u001b[0m\u001b[0m\n",
      "\u001b[0;32m~/.local/lib/python3.6/site-packages/sklearn/pipeline.py\u001b[0m in \u001b[0;36mfit\u001b[0;34m(self, X, y, **fit_params)\u001b[0m\n\u001b[1;32m    346\u001b[0m             \u001b[0mThis\u001b[0m \u001b[0mestimator\u001b[0m\u001b[0;34m\u001b[0m\u001b[0;34m\u001b[0m\u001b[0m\n\u001b[1;32m    347\u001b[0m         \"\"\"\n\u001b[0;32m--> 348\u001b[0;31m         \u001b[0mXt\u001b[0m\u001b[0;34m,\u001b[0m \u001b[0mfit_params\u001b[0m \u001b[0;34m=\u001b[0m \u001b[0mself\u001b[0m\u001b[0;34m.\u001b[0m\u001b[0m_fit\u001b[0m\u001b[0;34m(\u001b[0m\u001b[0mX\u001b[0m\u001b[0;34m,\u001b[0m \u001b[0my\u001b[0m\u001b[0;34m,\u001b[0m \u001b[0;34m**\u001b[0m\u001b[0mfit_params\u001b[0m\u001b[0;34m)\u001b[0m\u001b[0;34m\u001b[0m\u001b[0;34m\u001b[0m\u001b[0m\n\u001b[0m\u001b[1;32m    349\u001b[0m         with _print_elapsed_time('Pipeline',\n\u001b[1;32m    350\u001b[0m                                  self._log_message(len(self.steps) - 1)):\n",
      "\u001b[0;32m~/.local/lib/python3.6/site-packages/sklearn/pipeline.py\u001b[0m in \u001b[0;36m_fit\u001b[0;34m(self, X, y, **fit_params)\u001b[0m\n\u001b[1;32m    311\u001b[0m                 \u001b[0mmessage_clsname\u001b[0m\u001b[0;34m=\u001b[0m\u001b[0;34m'Pipeline'\u001b[0m\u001b[0;34m,\u001b[0m\u001b[0;34m\u001b[0m\u001b[0;34m\u001b[0m\u001b[0m\n\u001b[1;32m    312\u001b[0m                 \u001b[0mmessage\u001b[0m\u001b[0;34m=\u001b[0m\u001b[0mself\u001b[0m\u001b[0;34m.\u001b[0m\u001b[0m_log_message\u001b[0m\u001b[0;34m(\u001b[0m\u001b[0mstep_idx\u001b[0m\u001b[0;34m)\u001b[0m\u001b[0;34m,\u001b[0m\u001b[0;34m\u001b[0m\u001b[0;34m\u001b[0m\u001b[0m\n\u001b[0;32m--> 313\u001b[0;31m                 **fit_params_steps[name])\n\u001b[0m\u001b[1;32m    314\u001b[0m             \u001b[0;31m# Replace the transformer of the step with the fitted\u001b[0m\u001b[0;34m\u001b[0m\u001b[0;34m\u001b[0m\u001b[0;34m\u001b[0m\u001b[0m\n\u001b[1;32m    315\u001b[0m             \u001b[0;31m# transformer. This is necessary when loading the transformer\u001b[0m\u001b[0;34m\u001b[0m\u001b[0;34m\u001b[0m\u001b[0;34m\u001b[0m\u001b[0m\n",
      "\u001b[0;32m~/.local/lib/python3.6/site-packages/joblib/memory.py\u001b[0m in \u001b[0;36m__call__\u001b[0;34m(self, *args, **kwargs)\u001b[0m\n\u001b[1;32m    353\u001b[0m \u001b[0;34m\u001b[0m\u001b[0m\n\u001b[1;32m    354\u001b[0m     \u001b[0;32mdef\u001b[0m \u001b[0m__call__\u001b[0m\u001b[0;34m(\u001b[0m\u001b[0mself\u001b[0m\u001b[0;34m,\u001b[0m \u001b[0;34m*\u001b[0m\u001b[0margs\u001b[0m\u001b[0;34m,\u001b[0m \u001b[0;34m**\u001b[0m\u001b[0mkwargs\u001b[0m\u001b[0;34m)\u001b[0m\u001b[0;34m:\u001b[0m\u001b[0;34m\u001b[0m\u001b[0;34m\u001b[0m\u001b[0m\n\u001b[0;32m--> 355\u001b[0;31m         \u001b[0;32mreturn\u001b[0m \u001b[0mself\u001b[0m\u001b[0;34m.\u001b[0m\u001b[0mfunc\u001b[0m\u001b[0;34m(\u001b[0m\u001b[0;34m*\u001b[0m\u001b[0margs\u001b[0m\u001b[0;34m,\u001b[0m \u001b[0;34m**\u001b[0m\u001b[0mkwargs\u001b[0m\u001b[0;34m)\u001b[0m\u001b[0;34m\u001b[0m\u001b[0;34m\u001b[0m\u001b[0m\n\u001b[0m\u001b[1;32m    356\u001b[0m \u001b[0;34m\u001b[0m\u001b[0m\n\u001b[1;32m    357\u001b[0m     \u001b[0;32mdef\u001b[0m \u001b[0mcall_and_shelve\u001b[0m\u001b[0;34m(\u001b[0m\u001b[0mself\u001b[0m\u001b[0;34m,\u001b[0m \u001b[0;34m*\u001b[0m\u001b[0margs\u001b[0m\u001b[0;34m,\u001b[0m \u001b[0;34m**\u001b[0m\u001b[0mkwargs\u001b[0m\u001b[0;34m)\u001b[0m\u001b[0;34m:\u001b[0m\u001b[0;34m\u001b[0m\u001b[0;34m\u001b[0m\u001b[0m\n",
      "\u001b[0;32m~/.local/lib/python3.6/site-packages/sklearn/pipeline.py\u001b[0m in \u001b[0;36m_fit_transform_one\u001b[0;34m(transformer, X, y, weight, message_clsname, message, **fit_params)\u001b[0m\n\u001b[1;32m    724\u001b[0m     \u001b[0;32mwith\u001b[0m \u001b[0m_print_elapsed_time\u001b[0m\u001b[0;34m(\u001b[0m\u001b[0mmessage_clsname\u001b[0m\u001b[0;34m,\u001b[0m \u001b[0mmessage\u001b[0m\u001b[0;34m)\u001b[0m\u001b[0;34m:\u001b[0m\u001b[0;34m\u001b[0m\u001b[0;34m\u001b[0m\u001b[0m\n\u001b[1;32m    725\u001b[0m         \u001b[0;32mif\u001b[0m \u001b[0mhasattr\u001b[0m\u001b[0;34m(\u001b[0m\u001b[0mtransformer\u001b[0m\u001b[0;34m,\u001b[0m \u001b[0;34m'fit_transform'\u001b[0m\u001b[0;34m)\u001b[0m\u001b[0;34m:\u001b[0m\u001b[0;34m\u001b[0m\u001b[0;34m\u001b[0m\u001b[0m\n\u001b[0;32m--> 726\u001b[0;31m             \u001b[0mres\u001b[0m \u001b[0;34m=\u001b[0m \u001b[0mtransformer\u001b[0m\u001b[0;34m.\u001b[0m\u001b[0mfit_transform\u001b[0m\u001b[0;34m(\u001b[0m\u001b[0mX\u001b[0m\u001b[0;34m,\u001b[0m \u001b[0my\u001b[0m\u001b[0;34m,\u001b[0m \u001b[0;34m**\u001b[0m\u001b[0mfit_params\u001b[0m\u001b[0;34m)\u001b[0m\u001b[0;34m\u001b[0m\u001b[0;34m\u001b[0m\u001b[0m\n\u001b[0m\u001b[1;32m    727\u001b[0m         \u001b[0;32melse\u001b[0m\u001b[0;34m:\u001b[0m\u001b[0;34m\u001b[0m\u001b[0;34m\u001b[0m\u001b[0m\n\u001b[1;32m    728\u001b[0m             \u001b[0mres\u001b[0m \u001b[0;34m=\u001b[0m \u001b[0mtransformer\u001b[0m\u001b[0;34m.\u001b[0m\u001b[0mfit\u001b[0m\u001b[0;34m(\u001b[0m\u001b[0mX\u001b[0m\u001b[0;34m,\u001b[0m \u001b[0my\u001b[0m\u001b[0;34m,\u001b[0m \u001b[0;34m**\u001b[0m\u001b[0mfit_params\u001b[0m\u001b[0;34m)\u001b[0m\u001b[0;34m.\u001b[0m\u001b[0mtransform\u001b[0m\u001b[0;34m(\u001b[0m\u001b[0mX\u001b[0m\u001b[0;34m)\u001b[0m\u001b[0;34m\u001b[0m\u001b[0;34m\u001b[0m\u001b[0m\n",
      "\u001b[0;32m~/.local/lib/python3.6/site-packages/sklearn/base.py\u001b[0m in \u001b[0;36mfit_transform\u001b[0;34m(self, X, y, **fit_params)\u001b[0m\n\u001b[1;32m    572\u001b[0m         \u001b[0;32melse\u001b[0m\u001b[0;34m:\u001b[0m\u001b[0;34m\u001b[0m\u001b[0;34m\u001b[0m\u001b[0m\n\u001b[1;32m    573\u001b[0m             \u001b[0;31m# fit method of arity 2 (supervised transformation)\u001b[0m\u001b[0;34m\u001b[0m\u001b[0;34m\u001b[0m\u001b[0;34m\u001b[0m\u001b[0m\n\u001b[0;32m--> 574\u001b[0;31m             \u001b[0;32mreturn\u001b[0m \u001b[0mself\u001b[0m\u001b[0;34m.\u001b[0m\u001b[0mfit\u001b[0m\u001b[0;34m(\u001b[0m\u001b[0mX\u001b[0m\u001b[0;34m,\u001b[0m \u001b[0my\u001b[0m\u001b[0;34m,\u001b[0m \u001b[0;34m**\u001b[0m\u001b[0mfit_params\u001b[0m\u001b[0;34m)\u001b[0m\u001b[0;34m.\u001b[0m\u001b[0mtransform\u001b[0m\u001b[0;34m(\u001b[0m\u001b[0mX\u001b[0m\u001b[0;34m)\u001b[0m\u001b[0;34m\u001b[0m\u001b[0;34m\u001b[0m\u001b[0m\n\u001b[0m\u001b[1;32m    575\u001b[0m \u001b[0;34m\u001b[0m\u001b[0m\n\u001b[1;32m    576\u001b[0m \u001b[0;34m\u001b[0m\u001b[0m\n",
      "\u001b[0;32m~/.local/lib/python3.6/site-packages/sklearn/preprocessing/_data.py\u001b[0m in \u001b[0;36mtransform\u001b[0;34m(self, X)\u001b[0m\n\u001b[1;32m   1587\u001b[0m             \u001b[0;32melse\u001b[0m\u001b[0;34m:\u001b[0m\u001b[0;34m\u001b[0m\u001b[0;34m\u001b[0m\u001b[0m\n\u001b[1;32m   1588\u001b[0m                 XP = np.empty((n_samples, self.n_output_features_),\n\u001b[0;32m-> 1589\u001b[0;31m                               dtype=X.dtype, order=self.order)\n\u001b[0m\u001b[1;32m   1590\u001b[0m \u001b[0;34m\u001b[0m\u001b[0m\n\u001b[1;32m   1591\u001b[0m                 \u001b[0;31m# What follows is a faster implementation of:\u001b[0m\u001b[0;34m\u001b[0m\u001b[0;34m\u001b[0m\u001b[0;34m\u001b[0m\u001b[0m\n",
      "\u001b[0;31mMemoryError\u001b[0m: Unable to allocate array with shape (1168, 376992) and data type float64"
     ]
    }
   ],
   "source": [
    "from sklearn.pipeline import make_pipeline\n",
    "from sklearn.preprocessing import PolynomialFeatures, StandardScaler\n",
    "from sklearn.linear_model import LinearRegression\n",
    "from sklearn.metrics import mean_squared_error\n",
    "from sklearn.metrics import r2_score\n",
    "\n",
    "#Linear Regression\n",
    "for k in range(1,6):\n",
    "    poly_model = make_pipeline (StandardScaler(),PolynomialFeatures(k), LinearRegression())\n",
    "    model = poly_model.fit(X_train, y_train)\n",
    "    #mse = mean_squared_error(y_test, y_pred)\n",
    "    #print(mse)\n",
    "    print(poly_model.score(X_test, y_test))\n",
    "    y_pred = model.predict(X_test)\n",
    "    \n",
    "#check why this error???????????????\n",
    "    \n",
    "# SAME PROCESS for Decision Tree and KNN\n",
    "\n",
    "#Extract best model and configuration\n",
    "\n",
    "#Hyperparameters tuning of the choesen model, use GRID Search if not too heavy, otherwise\n",
    "#Random search\n",
    "\n",
    "#If suspect overfitting, then feature reduction (RFE). otherwise good to go"
   ]
  },
  {
   "cell_type": "code",
   "execution_count": null,
   "metadata": {},
   "outputs": [],
   "source": []
  }
 ],
 "metadata": {
  "colab": {
   "collapsed_sections": [],
   "name": "MLtechInterview.ipynb",
   "provenance": []
  },
  "kernelspec": {
   "display_name": "Python 3",
   "language": "python",
   "name": "python3"
  },
  "language_info": {
   "codemirror_mode": {
    "name": "ipython",
    "version": 3
   },
   "file_extension": ".py",
   "mimetype": "text/x-python",
   "name": "python",
   "nbconvert_exporter": "python",
   "pygments_lexer": "ipython3",
   "version": "3.6.9"
  }
 },
 "nbformat": 4,
 "nbformat_minor": 1
}
